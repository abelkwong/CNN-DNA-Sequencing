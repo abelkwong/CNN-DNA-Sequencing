{
 "cells": [
  {
   "cell_type": "markdown",
   "id": "4f3377eb",
   "metadata": {},
   "source": [
    "## Import Libraries"
   ]
  },
  {
   "cell_type": "code",
   "execution_count": 2,
   "id": "8d7e90cb",
   "metadata": {},
   "outputs": [],
   "source": [
    "import pandas as pd\n",
    "import numpy as np\n",
    "import matplotlib.pyplot as plt\n",
    "import seaborn as sns\n",
    "\n",
    "from sklearn.model_selection import train_test_split\n",
    "from sklearn.metrics import classification_report, confusion_matrix\n",
    "from sklearn.naive_bayes import MultinomialNB\n",
    "\n",
    "%matplotlib inline"
   ]
  },
  {
   "cell_type": "markdown",
   "id": "e701617c",
   "metadata": {},
   "source": [
    "## Load Data"
   ]
  },
  {
   "cell_type": "markdown",
   "id": "8f91784d",
   "metadata": {},
   "source": [
    "**Define FASTA helper function**"
   ]
  },
  {
   "cell_type": "code",
   "execution_count": 4,
   "id": "b5d2d31b",
   "metadata": {
    "scrolled": true
   },
   "outputs": [],
   "source": [
    "import re\n",
    "\n",
    "def load_fasta(file):\n",
    "    with open(file, 'r', encoding='utf-8') as file:\n",
    "        text = file.read()\n",
    "    \n",
    "    pattern = re.compile(r'>[A-Z]{2,3}_?\\d+\\.\\d+')\n",
    "    result = pattern.split(text)\n",
    "    result = [element.replace('\\n', '') for element in result]\n",
    "    result = [element for element in result if element.strip()]\n",
    "    return result"
   ]
  },
  {
   "cell_type": "markdown",
   "id": "2134a6cf",
   "metadata": {},
   "source": [
    "**Load virus datasets**"
   ]
  },
  {
   "cell_type": "code",
   "execution_count": 5,
   "id": "6b584eb4",
   "metadata": {
    "scrolled": true
   },
   "outputs": [],
   "source": [
    "# Preprocess all fasta files\n",
    "covid = load_fasta('covid_sequences.fasta')\n",
    "dengue = load_fasta('dengue_sequences.fasta')\n",
    "hepatitis = load_fasta('hepatitis_sequences.fasta')\n",
    "influenza = load_fasta('influenza_sequences.fasta')\n",
    "mers = load_fasta('mers_sequences.fasta')"
   ]
  },
  {
   "cell_type": "code",
   "execution_count": 6,
   "id": "81ec3aac",
   "metadata": {},
   "outputs": [
    {
     "data": {
      "text/html": [
       "<div>\n",
       "<style scoped>\n",
       "    .dataframe tbody tr th:only-of-type {\n",
       "        vertical-align: middle;\n",
       "    }\n",
       "\n",
       "    .dataframe tbody tr th {\n",
       "        vertical-align: top;\n",
       "    }\n",
       "\n",
       "    .dataframe thead th {\n",
       "        text-align: right;\n",
       "    }\n",
       "</style>\n",
       "<table border=\"1\" class=\"dataframe\">\n",
       "  <thead>\n",
       "    <tr style=\"text-align: right;\">\n",
       "      <th></th>\n",
       "      <th>Sequence</th>\n",
       "      <th>Len</th>\n",
       "      <th>Label</th>\n",
       "    </tr>\n",
       "  </thead>\n",
       "  <tbody>\n",
       "    <tr>\n",
       "      <th>0</th>\n",
       "      <td>ATTAAAGGTTTATACCTTCCCAGGTAACAAACCAACCAACTTTCGA...</td>\n",
       "      <td>29903</td>\n",
       "      <td>0</td>\n",
       "    </tr>\n",
       "    <tr>\n",
       "      <th>1</th>\n",
       "      <td>TAAAGGTTTATACCTTCCCAGGTAACAAACCAACCAACTTTTGATC...</td>\n",
       "      <td>29796</td>\n",
       "      <td>0</td>\n",
       "    </tr>\n",
       "    <tr>\n",
       "      <th>2</th>\n",
       "      <td>ATTAAAGGTTTATACCTTCCCAGGTAACAAACCAACCAACTTTCGA...</td>\n",
       "      <td>29841</td>\n",
       "      <td>0</td>\n",
       "    </tr>\n",
       "    <tr>\n",
       "      <th>3</th>\n",
       "      <td>ATTAAAGGTTTATACCTTCCCAGGTAACAAACCAACCAACTTTTGA...</td>\n",
       "      <td>29835</td>\n",
       "      <td>0</td>\n",
       "    </tr>\n",
       "    <tr>\n",
       "      <th>4</th>\n",
       "      <td>ATTAAAGGTTTATACCTTCCCAGGTAACAAACCAACCAACTTTTGA...</td>\n",
       "      <td>29844</td>\n",
       "      <td>0</td>\n",
       "    </tr>\n",
       "  </tbody>\n",
       "</table>\n",
       "</div>"
      ],
      "text/plain": [
       "                                            Sequence    Len  Label\n",
       "0  ATTAAAGGTTTATACCTTCCCAGGTAACAAACCAACCAACTTTCGA...  29903      0\n",
       "1  TAAAGGTTTATACCTTCCCAGGTAACAAACCAACCAACTTTTGATC...  29796      0\n",
       "2  ATTAAAGGTTTATACCTTCCCAGGTAACAAACCAACCAACTTTCGA...  29841      0\n",
       "3  ATTAAAGGTTTATACCTTCCCAGGTAACAAACCAACCAACTTTTGA...  29835      0\n",
       "4  ATTAAAGGTTTATACCTTCCCAGGTAACAAACCAACCAACTTTTGA...  29844      0"
      ]
     },
     "metadata": {},
     "output_type": "display_data"
    },
    {
     "name": "stdout",
     "output_type": "stream",
     "text": [
      "200\n",
      "200\n",
      "200\n",
      "200\n",
      "200\n"
     ]
    }
   ],
   "source": [
    "# Create pandas dataframe\n",
    "sequence_len_covid = [len(i) for i in covid]\n",
    "sequence_len_dengue = [len(i) for i in dengue]\n",
    "sequence_len_hepatitis = [len(i) for i in hepatitis]\n",
    "sequence_len_influenza = [len(i) for i in influenza]\n",
    "sequence_len_mers = [len(i) for i in mers]\n",
    "\n",
    "df_covid = pd.DataFrame({\"Sequence\": covid, \"Len\": sequence_len_covid, \"Label\": 0})\n",
    "df_dengue = pd.DataFrame({\"Sequence\": dengue, \"Len\": sequence_len_dengue, \"Label\": 1})\n",
    "df_hepatitis = pd.DataFrame({\"Sequence\": hepatitis, \"Len\": sequence_len_hepatitis, \"Label\": 2})\n",
    "df_influenza = pd.DataFrame({\"Sequence\": influenza, \"Len\": sequence_len_influenza, \"Label\": 3})\n",
    "df_mers = pd.DataFrame({\"Sequence\": mers, \"Len\": sequence_len_mers, \"Label\": 4})\n",
    "\n",
    "df = pd.concat([df_covid, df_dengue, df_hepatitis, df_influenza, df_mers], ignore_index=True)\n",
    "display(df.head())\n",
    "\n",
    "print(len(df_covid))\n",
    "print(len(df_dengue))\n",
    "print(len(df_hepatitis))\n",
    "print(len(df_influenza))\n",
    "print(len(df_mers))"
   ]
  },
  {
   "cell_type": "markdown",
   "id": "f128eb9c",
   "metadata": {},
   "source": [
    "## Data Preprocessing"
   ]
  },
  {
   "cell_type": "markdown",
   "id": "e114bd4b",
   "metadata": {},
   "source": [
    "**Cleanse for any unwanted characters**"
   ]
  },
  {
   "cell_type": "code",
   "execution_count": 5,
   "id": "199b7967",
   "metadata": {},
   "outputs": [],
   "source": [
    "pattern = '[^ACGT]'\n",
    "\n",
    "df['Sequence'] = df['Sequence'].apply(lambda x: re.sub(pattern, '', x))"
   ]
  },
  {
   "cell_type": "markdown",
   "id": "a240f836",
   "metadata": {},
   "source": [
    "**Encoding via K-mer counting**"
   ]
  },
  {
   "cell_type": "code",
   "execution_count": 6,
   "id": "63a87675",
   "metadata": {},
   "outputs": [],
   "source": [
    "# K-mer helper function\n",
    "def get_Kmer(string, k):\n",
    "    return [string[i:i+k].lower() for i in range(len(string) - k + 1)]"
   ]
  },
  {
   "cell_type": "code",
   "execution_count": 9,
   "id": "84cbc171",
   "metadata": {},
   "outputs": [
    {
     "data": {
      "text/html": [
       "<div>\n",
       "<style scoped>\n",
       "    .dataframe tbody tr th:only-of-type {\n",
       "        vertical-align: middle;\n",
       "    }\n",
       "\n",
       "    .dataframe tbody tr th {\n",
       "        vertical-align: top;\n",
       "    }\n",
       "\n",
       "    .dataframe thead th {\n",
       "        text-align: right;\n",
       "    }\n",
       "</style>\n",
       "<table border=\"1\" class=\"dataframe\">\n",
       "  <thead>\n",
       "    <tr style=\"text-align: right;\">\n",
       "      <th></th>\n",
       "      <th>Kmer</th>\n",
       "      <th>Label</th>\n",
       "    </tr>\n",
       "  </thead>\n",
       "  <tbody>\n",
       "    <tr>\n",
       "      <th>0</th>\n",
       "      <td>[attaaa, ttaaag, taaagg, aaaggt, aaggtt, aggtt...</td>\n",
       "      <td>0</td>\n",
       "    </tr>\n",
       "    <tr>\n",
       "      <th>1</th>\n",
       "      <td>[taaagg, aaaggt, aaggtt, aggttt, ggttta, gttta...</td>\n",
       "      <td>0</td>\n",
       "    </tr>\n",
       "    <tr>\n",
       "      <th>2</th>\n",
       "      <td>[attaaa, ttaaag, taaagg, aaaggt, aaggtt, aggtt...</td>\n",
       "      <td>0</td>\n",
       "    </tr>\n",
       "    <tr>\n",
       "      <th>3</th>\n",
       "      <td>[attaaa, ttaaag, taaagg, aaaggt, aaggtt, aggtt...</td>\n",
       "      <td>0</td>\n",
       "    </tr>\n",
       "    <tr>\n",
       "      <th>4</th>\n",
       "      <td>[attaaa, ttaaag, taaagg, aaaggt, aaggtt, aggtt...</td>\n",
       "      <td>0</td>\n",
       "    </tr>\n",
       "  </tbody>\n",
       "</table>\n",
       "</div>"
      ],
      "text/plain": [
       "                                                Kmer  Label\n",
       "0  [attaaa, ttaaag, taaagg, aaaggt, aaggtt, aggtt...      0\n",
       "1  [taaagg, aaaggt, aaggtt, aggttt, ggttta, gttta...      0\n",
       "2  [attaaa, ttaaag, taaagg, aaaggt, aaggtt, aggtt...      0\n",
       "3  [attaaa, ttaaag, taaagg, aaaggt, aaggtt, aggtt...      0\n",
       "4  [attaaa, ttaaag, taaagg, aaaggt, aaggtt, aggtt...      0"
      ]
     },
     "metadata": {},
     "output_type": "display_data"
    }
   ],
   "source": [
    "# K-mer size\n",
    "k = 6\n",
    "\n",
    "# Find K-mers for each sequence\n",
    "df['Kmer'] = df.apply(lambda x: get_Kmer(x['Sequence'], k), axis=1)\n",
    "df = df.reindex(columns=['Sequence', 'Len', 'Kmer', 'Label']).drop(['Sequence', 'Len'], axis=1)\n",
    "display(df.head())"
   ]
  },
  {
   "cell_type": "markdown",
   "id": "dd29651c",
   "metadata": {},
   "source": [
    "**Label feature and target variable**"
   ]
  },
  {
   "cell_type": "code",
   "execution_count": 10,
   "id": "ed976a16",
   "metadata": {},
   "outputs": [],
   "source": [
    "# Feature variables\n",
    "X_kmers = list(df['Kmer'])\n",
    "X_kmers = [' '.join(X_kmers[i]) for i in range(len(X_kmers))]\n",
    "\n",
    "# Target variables\n",
    "y = df.iloc[:, 1]"
   ]
  },
  {
   "cell_type": "markdown",
   "id": "3375f8da",
   "metadata": {},
   "source": [
    "**Define n-grams function**"
   ]
  },
  {
   "cell_type": "code",
   "execution_count": 11,
   "id": "97c46caa",
   "metadata": {},
   "outputs": [],
   "source": [
    "from sklearn.feature_extraction.text import CountVectorizer\n",
    "\n",
    "cv = CountVectorizer(ngram_range=(4,4))"
   ]
  },
  {
   "cell_type": "markdown",
   "id": "47f3a92b",
   "metadata": {},
   "source": [
    "**Get n-grams for each sequence**"
   ]
  },
  {
   "cell_type": "code",
   "execution_count": 12,
   "id": "ea369a6b",
   "metadata": {
    "scrolled": true
   },
   "outputs": [
    {
     "name": "stdout",
     "output_type": "stream",
     "text": [
      "(1000, 197982)\n"
     ]
    }
   ],
   "source": [
    "X_kmer = cv.fit_transform(virus_kmers)\n",
    "print(X_kmer.shape)"
   ]
  },
  {
   "cell_type": "markdown",
   "id": "65a53a89",
   "metadata": {},
   "source": [
    "## Multinomial Naive Bayes"
   ]
  },
  {
   "cell_type": "code",
   "execution_count": 16,
   "id": "3cbd7e27",
   "metadata": {},
   "outputs": [
    {
     "data": {
      "text/html": [
       "<style>#sk-container-id-1 {color: black;background-color: white;}#sk-container-id-1 pre{padding: 0;}#sk-container-id-1 div.sk-toggleable {background-color: white;}#sk-container-id-1 label.sk-toggleable__label {cursor: pointer;display: block;width: 100%;margin-bottom: 0;padding: 0.3em;box-sizing: border-box;text-align: center;}#sk-container-id-1 label.sk-toggleable__label-arrow:before {content: \"▸\";float: left;margin-right: 0.25em;color: #696969;}#sk-container-id-1 label.sk-toggleable__label-arrow:hover:before {color: black;}#sk-container-id-1 div.sk-estimator:hover label.sk-toggleable__label-arrow:before {color: black;}#sk-container-id-1 div.sk-toggleable__content {max-height: 0;max-width: 0;overflow: hidden;text-align: left;background-color: #f0f8ff;}#sk-container-id-1 div.sk-toggleable__content pre {margin: 0.2em;color: black;border-radius: 0.25em;background-color: #f0f8ff;}#sk-container-id-1 input.sk-toggleable__control:checked~div.sk-toggleable__content {max-height: 200px;max-width: 100%;overflow: auto;}#sk-container-id-1 input.sk-toggleable__control:checked~label.sk-toggleable__label-arrow:before {content: \"▾\";}#sk-container-id-1 div.sk-estimator input.sk-toggleable__control:checked~label.sk-toggleable__label {background-color: #d4ebff;}#sk-container-id-1 div.sk-label input.sk-toggleable__control:checked~label.sk-toggleable__label {background-color: #d4ebff;}#sk-container-id-1 input.sk-hidden--visually {border: 0;clip: rect(1px 1px 1px 1px);clip: rect(1px, 1px, 1px, 1px);height: 1px;margin: -1px;overflow: hidden;padding: 0;position: absolute;width: 1px;}#sk-container-id-1 div.sk-estimator {font-family: monospace;background-color: #f0f8ff;border: 1px dotted black;border-radius: 0.25em;box-sizing: border-box;margin-bottom: 0.5em;}#sk-container-id-1 div.sk-estimator:hover {background-color: #d4ebff;}#sk-container-id-1 div.sk-parallel-item::after {content: \"\";width: 100%;border-bottom: 1px solid gray;flex-grow: 1;}#sk-container-id-1 div.sk-label:hover label.sk-toggleable__label {background-color: #d4ebff;}#sk-container-id-1 div.sk-serial::before {content: \"\";position: absolute;border-left: 1px solid gray;box-sizing: border-box;top: 0;bottom: 0;left: 50%;z-index: 0;}#sk-container-id-1 div.sk-serial {display: flex;flex-direction: column;align-items: center;background-color: white;padding-right: 0.2em;padding-left: 0.2em;position: relative;}#sk-container-id-1 div.sk-item {position: relative;z-index: 1;}#sk-container-id-1 div.sk-parallel {display: flex;align-items: stretch;justify-content: center;background-color: white;position: relative;}#sk-container-id-1 div.sk-item::before, #sk-container-id-1 div.sk-parallel-item::before {content: \"\";position: absolute;border-left: 1px solid gray;box-sizing: border-box;top: 0;bottom: 0;left: 50%;z-index: -1;}#sk-container-id-1 div.sk-parallel-item {display: flex;flex-direction: column;z-index: 1;position: relative;background-color: white;}#sk-container-id-1 div.sk-parallel-item:first-child::after {align-self: flex-end;width: 50%;}#sk-container-id-1 div.sk-parallel-item:last-child::after {align-self: flex-start;width: 50%;}#sk-container-id-1 div.sk-parallel-item:only-child::after {width: 0;}#sk-container-id-1 div.sk-dashed-wrapped {border: 1px dashed gray;margin: 0 0.4em 0.5em 0.4em;box-sizing: border-box;padding-bottom: 0.4em;background-color: white;}#sk-container-id-1 div.sk-label label {font-family: monospace;font-weight: bold;display: inline-block;line-height: 1.2em;}#sk-container-id-1 div.sk-label-container {text-align: center;}#sk-container-id-1 div.sk-container {/* jupyter's `normalize.less` sets `[hidden] { display: none; }` but bootstrap.min.css set `[hidden] { display: none !important; }` so we also need the `!important` here to be able to override the default hidden behavior on the sphinx rendered scikit-learn.org. See: https://github.com/scikit-learn/scikit-learn/issues/21755 */display: inline-block !important;position: relative;}#sk-container-id-1 div.sk-text-repr-fallback {display: none;}</style><div id=\"sk-container-id-1\" class=\"sk-top-container\"><div class=\"sk-text-repr-fallback\"><pre>MultinomialNB(alpha=0.1)</pre><b>In a Jupyter environment, please rerun this cell to show the HTML representation or trust the notebook. <br />On GitHub, the HTML representation is unable to render, please try loading this page with nbviewer.org.</b></div><div class=\"sk-container\" hidden><div class=\"sk-item\"><div class=\"sk-estimator sk-toggleable\"><input class=\"sk-toggleable__control sk-hidden--visually\" id=\"sk-estimator-id-1\" type=\"checkbox\" checked><label for=\"sk-estimator-id-1\" class=\"sk-toggleable__label sk-toggleable__label-arrow\">MultinomialNB</label><div class=\"sk-toggleable__content\"><pre>MultinomialNB(alpha=0.1)</pre></div></div></div></div></div>"
      ],
      "text/plain": [
       "MultinomialNB(alpha=0.1)"
      ]
     },
     "execution_count": 16,
     "metadata": {},
     "output_type": "execute_result"
    }
   ],
   "source": [
    "# Split into training and testing set\n",
    "X_train, X_test, y_train, y_test = train_test_split(X_kmer, y, test_size=0.2, random_state=1)\n",
    "\n",
    "# Instantiate classifier\n",
    "classifier = MultinomialNB(alpha=0.1)\n",
    "classifier.fit(X_train, y_train)"
   ]
  },
  {
   "cell_type": "code",
   "execution_count": 17,
   "id": "f7fcc84e",
   "metadata": {},
   "outputs": [
    {
     "name": "stdout",
     "output_type": "stream",
     "text": [
      "              precision    recall  f1-score   support\n",
      "\n",
      "           0       1.00      1.00      1.00        41\n",
      "           1       1.00      1.00      1.00        33\n",
      "           2       1.00      0.98      0.99        50\n",
      "           3       0.98      1.00      0.99        40\n",
      "           4       1.00      1.00      1.00        36\n",
      "\n",
      "    accuracy                           0.99       200\n",
      "   macro avg       1.00      1.00      1.00       200\n",
      "weighted avg       1.00      0.99      1.00       200\n",
      "\n"
     ]
    }
   ],
   "source": [
    "# Prediction\n",
    "y_pred = classifier.predict(X_test)\n",
    "\n",
    "print(classification_report(y_test, y_pred))"
   ]
  },
  {
   "cell_type": "code",
   "execution_count": 19,
   "id": "897b3f7b",
   "metadata": {
    "scrolled": false
   },
   "outputs": [
    {
     "data": {
      "image/png": "[encoded data removed]",
      "text/plain": [
       "<Figure size 640x480 with 2 Axes>"
      ]
     },
     "metadata": {},
     "output_type": "display_data"
    }
   ],
   "source": [
    "# Confusion matrix\n",
    "cf_human = confusion_matrix(y_test, y_pred)\n",
    "sns.heatmap(cf_human, linewidths=1, annot=True, fmt='g')\n",
    "plt.xlabel('Predicted values')\n",
    "plt.ylabel('Actual values');"
   ]
  }
 ],
 "metadata": {
  "kernelspec": {
   "display_name": "Python 3 (ipykernel)",
   "language": "python",
   "name": "python3"
  },
  "language_info": {
   "codemirror_mode": {
    "name": "ipython",
    "version": 3
   },
   "file_extension": ".py",
   "mimetype": "text/x-python",
   "name": "python",
   "nbconvert_exporter": "python",
   "pygments_lexer": "ipython3",
   "version": "3.9.13"
  }
 },
 "nbformat": 4,
 "nbformat_minor": 5
}
